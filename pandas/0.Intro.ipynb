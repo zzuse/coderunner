{
 "cells": [
  {
   "cell_type": "code",
   "execution_count": 2,
   "id": "7b4acf18-e7e1-45af-afc6-068a923f76e2",
   "metadata": {},
   "outputs": [],
   "source": [
    "import pandas"
   ]
  },
  {
   "cell_type": "code",
   "execution_count": 3,
   "id": "d0b9a775-a343-4dce-8560-a86e0f83cae1",
   "metadata": {},
   "outputs": [
    {
     "data": {
      "text/plain": [
       "'1.5.2'"
      ]
     },
     "execution_count": 3,
     "metadata": {},
     "output_type": "execute_result"
    }
   ],
   "source": [
    "pandas.__version__"
   ]
  },
  {
   "cell_type": "code",
   "execution_count": 4,
   "id": "013a8b67-9aa0-46c8-b09a-008a39243d70",
   "metadata": {},
   "outputs": [],
   "source": [
    "import pandas as pd"
   ]
  },
  {
   "cell_type": "code",
   "execution_count": 5,
   "id": "f1c5115b-3121-409f-bdb1-aa6f0da2f303",
   "metadata": {},
   "outputs": [
    {
     "data": {
      "text/plain": [
       "<function pandas.core.reshape.encoding.from_dummies(data: 'DataFrame', sep: 'None | str' = None, default_category: 'None | Hashable | dict[str, Hashable]' = None) -> 'DataFrame'>"
      ]
     },
     "execution_count": 5,
     "metadata": {},
     "output_type": "execute_result"
    }
   ],
   "source": [
    "pd.from_dummies"
   ]
  },
  {
   "cell_type": "code",
   "execution_count": 7,
   "id": "1e3da0c2-5fff-470b-a880-266e7cef93b0",
   "metadata": {},
   "outputs": [
    {
     "data": {
      "text/plain": [
       "\u001b[0;31mSignature:\u001b[0m\n",
       "\u001b[0mpd\u001b[0m\u001b[0;34m.\u001b[0m\u001b[0mfrom_dummies\u001b[0m\u001b[0;34m(\u001b[0m\u001b[0;34m\u001b[0m\n",
       "\u001b[0;34m\u001b[0m    \u001b[0mdata\u001b[0m\u001b[0;34m:\u001b[0m \u001b[0;34m'DataFrame'\u001b[0m\u001b[0;34m,\u001b[0m\u001b[0;34m\u001b[0m\n",
       "\u001b[0;34m\u001b[0m    \u001b[0msep\u001b[0m\u001b[0;34m:\u001b[0m \u001b[0;34m'None | str'\u001b[0m \u001b[0;34m=\u001b[0m \u001b[0;32mNone\u001b[0m\u001b[0;34m,\u001b[0m\u001b[0;34m\u001b[0m\n",
       "\u001b[0;34m\u001b[0m    \u001b[0mdefault_category\u001b[0m\u001b[0;34m:\u001b[0m \u001b[0;34m'None | Hashable | dict[str, Hashable]'\u001b[0m \u001b[0;34m=\u001b[0m \u001b[0;32mNone\u001b[0m\u001b[0;34m,\u001b[0m\u001b[0;34m\u001b[0m\n",
       "\u001b[0;34m\u001b[0m\u001b[0;34m)\u001b[0m \u001b[0;34m->\u001b[0m \u001b[0;34m'DataFrame'\u001b[0m\u001b[0;34m\u001b[0m\u001b[0;34m\u001b[0m\u001b[0m\n",
       "\u001b[0;31mDocstring:\u001b[0m\n",
       "Create a categorical ``DataFrame`` from a ``DataFrame`` of dummy variables.\n",
       "\n",
       "Inverts the operation performed by :func:`~pandas.get_dummies`.\n",
       "\n",
       ".. versionadded:: 1.5.0\n",
       "\n",
       "Parameters\n",
       "----------\n",
       "data : DataFrame\n",
       "    Data which contains dummy-coded variables in form of integer columns of\n",
       "    1's and 0's.\n",
       "sep : str, default None\n",
       "    Separator used in the column names of the dummy categories they are\n",
       "    character indicating the separation of the categorical names from the prefixes.\n",
       "    For example, if your column names are 'prefix_A' and 'prefix_B',\n",
       "    you can strip the underscore by specifying sep='_'.\n",
       "default_category : None, Hashable or dict of Hashables, default None\n",
       "    The default category is the implied category when a value has none of the\n",
       "    listed categories specified with a one, i.e. if all dummies in a row are\n",
       "    zero. Can be a single value for all variables or a dict directly mapping\n",
       "    the default categories to a prefix of a variable.\n",
       "\n",
       "Returns\n",
       "-------\n",
       "DataFrame\n",
       "    Categorical data decoded from the dummy input-data.\n",
       "\n",
       "Raises\n",
       "------\n",
       "ValueError\n",
       "    * When the input ``DataFrame`` ``data`` contains NA values.\n",
       "    * When the input ``DataFrame`` ``data`` contains column names with separators\n",
       "      that do not match the separator specified with ``sep``.\n",
       "    * When a ``dict`` passed to ``default_category`` does not include an implied\n",
       "      category for each prefix.\n",
       "    * When a value in ``data`` has more than one category assigned to it.\n",
       "    * When ``default_category=None`` and a value in ``data`` has no category\n",
       "      assigned to it.\n",
       "TypeError\n",
       "    * When the input ``data`` is not of type ``DataFrame``.\n",
       "    * When the input ``DataFrame`` ``data`` contains non-dummy data.\n",
       "    * When the passed ``sep`` is of a wrong data type.\n",
       "    * When the passed ``default_category`` is of a wrong data type.\n",
       "\n",
       "See Also\n",
       "--------\n",
       ":func:`~pandas.get_dummies` : Convert ``Series`` or ``DataFrame`` to dummy codes.\n",
       ":class:`~pandas.Categorical` : Represent a categorical variable in classic.\n",
       "\n",
       "Notes\n",
       "-----\n",
       "The columns of the passed dummy data should only include 1's and 0's,\n",
       "or boolean values.\n",
       "\n",
       "Examples\n",
       "--------\n",
       ">>> df = pd.DataFrame({\"a\": [1, 0, 0, 1], \"b\": [0, 1, 0, 0],\n",
       "...                    \"c\": [0, 0, 1, 0]})\n",
       "\n",
       ">>> df\n",
       "   a  b  c\n",
       "0  1  0  0\n",
       "1  0  1  0\n",
       "2  0  0  1\n",
       "3  1  0  0\n",
       "\n",
       ">>> pd.from_dummies(df)\n",
       "0     a\n",
       "1     b\n",
       "2     c\n",
       "3     a\n",
       "\n",
       ">>> df = pd.DataFrame({\"col1_a\": [1, 0, 1], \"col1_b\": [0, 1, 0],\n",
       "...                    \"col2_a\": [0, 1, 0], \"col2_b\": [1, 0, 0],\n",
       "...                    \"col2_c\": [0, 0, 1]})\n",
       "\n",
       ">>> df\n",
       "      col1_a  col1_b  col2_a  col2_b  col2_c\n",
       "0       1       0       0       1       0\n",
       "1       0       1       1       0       0\n",
       "2       1       0       0       0       1\n",
       "\n",
       ">>> pd.from_dummies(df, sep=\"_\")\n",
       "    col1    col2\n",
       "0    a       b\n",
       "1    b       a\n",
       "2    a       c\n",
       "\n",
       ">>> df = pd.DataFrame({\"col1_a\": [1, 0, 0], \"col1_b\": [0, 1, 0],\n",
       "...                    \"col2_a\": [0, 1, 0], \"col2_b\": [1, 0, 0],\n",
       "...                    \"col2_c\": [0, 0, 0]})\n",
       "\n",
       ">>> df\n",
       "      col1_a  col1_b  col2_a  col2_b  col2_c\n",
       "0       1       0       0       1       0\n",
       "1       0       1       1       0       0\n",
       "2       0       0       0       0       0\n",
       "\n",
       ">>> pd.from_dummies(df, sep=\"_\", default_category={\"col1\": \"d\", \"col2\": \"e\"})\n",
       "    col1    col2\n",
       "0    a       b\n",
       "1    b       a\n",
       "2    d       e\n",
       "\u001b[0;31mFile:\u001b[0m      ~/opt/anaconda3/envs/cling/lib/python3.10/site-packages/pandas/core/reshape/encoding.py\n",
       "\u001b[0;31mType:\u001b[0m      function"
      ]
     },
     "metadata": {},
     "output_type": "display_data"
    }
   ],
   "source": [
    "pd.from_dummies?"
   ]
  },
  {
   "cell_type": "code",
   "execution_count": 8,
   "id": "ff97873d-92b6-4717-b677-9584cda79a92",
   "metadata": {},
   "outputs": [
    {
     "data": {
      "text/plain": [
       "\u001b[0;31mType:\u001b[0m        module\n",
       "\u001b[0;31mString form:\u001b[0m <module 'pandas' from '/Users/zhangzhen/opt/anaconda3/envs/cling/lib/python3.10/site-packages/pandas/__init__.py'>\n",
       "\u001b[0;31mFile:\u001b[0m        ~/opt/anaconda3/envs/cling/lib/python3.10/site-packages/pandas/__init__.py\n",
       "\u001b[0;31mDocstring:\u001b[0m  \n",
       "pandas - a powerful data analysis and manipulation library for Python\n",
       "=====================================================================\n",
       "\n",
       "**pandas** is a Python package providing fast, flexible, and expressive data\n",
       "structures designed to make working with \"relational\" or \"labeled\" data both\n",
       "easy and intuitive. It aims to be the fundamental high-level building block for\n",
       "doing practical, **real world** data analysis in Python. Additionally, it has\n",
       "the broader goal of becoming **the most powerful and flexible open source data\n",
       "analysis / manipulation tool available in any language**. It is already well on\n",
       "its way toward this goal.\n",
       "\n",
       "Main Features\n",
       "-------------\n",
       "Here are just a few of the things that pandas does well:\n",
       "\n",
       "  - Easy handling of missing data in floating point as well as non-floating\n",
       "    point data.\n",
       "  - Size mutability: columns can be inserted and deleted from DataFrame and\n",
       "    higher dimensional objects\n",
       "  - Automatic and explicit data alignment: objects can be explicitly aligned\n",
       "    to a set of labels, or the user can simply ignore the labels and let\n",
       "    `Series`, `DataFrame`, etc. automatically align the data for you in\n",
       "    computations.\n",
       "  - Powerful, flexible group by functionality to perform split-apply-combine\n",
       "    operations on data sets, for both aggregating and transforming data.\n",
       "  - Make it easy to convert ragged, differently-indexed data in other Python\n",
       "    and NumPy data structures into DataFrame objects.\n",
       "  - Intelligent label-based slicing, fancy indexing, and subsetting of large\n",
       "    data sets.\n",
       "  - Intuitive merging and joining data sets.\n",
       "  - Flexible reshaping and pivoting of data sets.\n",
       "  - Hierarchical labeling of axes (possible to have multiple labels per tick).\n",
       "  - Robust IO tools for loading data from flat files (CSV and delimited),\n",
       "    Excel files, databases, and saving/loading data from the ultrafast HDF5\n",
       "    format.\n",
       "  - Time series-specific functionality: date range generation and frequency\n",
       "    conversion, moving window statistics, date shifting and lagging."
      ]
     },
     "metadata": {},
     "output_type": "display_data"
    }
   ],
   "source": [
    "pd?"
   ]
  },
  {
   "cell_type": "code",
   "execution_count": null,
   "id": "66047514-31f5-41cf-a4bc-3ac27e58ad7f",
   "metadata": {},
   "outputs": [],
   "source": []
  }
 ],
 "metadata": {
  "kernelspec": {
   "display_name": "Python 3 (ipykernel)",
   "language": "python",
   "name": "python3"
  },
  "language_info": {
   "codemirror_mode": {
    "name": "ipython",
    "version": 3
   },
   "file_extension": ".py",
   "mimetype": "text/x-python",
   "name": "python",
   "nbconvert_exporter": "python",
   "pygments_lexer": "ipython3",
   "version": "3.10.8"
  }
 },
 "nbformat": 4,
 "nbformat_minor": 5
}
